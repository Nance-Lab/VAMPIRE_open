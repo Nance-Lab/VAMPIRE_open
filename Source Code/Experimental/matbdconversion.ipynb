{
 "cells": [
  {
   "cell_type": "code",
   "execution_count": 1,
   "metadata": {
    "collapsed": false,
    "jupyter": {
     "outputs_hidden": false
    },
    "pycharm": {
     "name": "#%%\n"
    }
   },
   "outputs": [
    {
     "name": "stdin",
     "output_type": "stream",
     "text": [
      "Once deleted, variables cannot be recovered. Proceed (y/[n])?  y\n"
     ]
    }
   ],
   "source": [
    "%reset"
   ]
  },
  {
   "cell_type": "code",
   "execution_count": 14,
   "metadata": {},
   "outputs": [],
   "source": [
    "import os, shutil\n",
    "import numpy as np\n",
    "import seaborn as sns\n",
    "from matplotlib import pyplot as plt\n",
    "from scipy.stats import ttest_ind\n",
    "from scipy.io import savemat\n",
    "sns.set()"
   ]
  },
  {
   "cell_type": "code",
   "execution_count": null,
   "metadata": {
    "collapsed": false,
    "jupyter": {
     "outputs_hidden": false
    },
    "pycharm": {
     "name": "#%%\n"
    }
   },
   "outputs": [],
   "source": [
    "dir = r'C:\\Users\\kuki\\Desktop\\Skin\\MAT\\bd_immune\\young'\n",
    "mats = [_ for _ in os.listdir(dir) if _.endswith('e')]\n",
    "names = [os.path.splitext(_)[0][28:34] for _ in mats]"
   ]
  },
  {
   "cell_type": "code",
   "execution_count": null,
   "metadata": {
    "collapsed": false,
    "jupyter": {
     "outputs_hidden": false
    },
    "pycharm": {
     "name": "#%%\n"
    }
   },
   "outputs": [],
   "source": [
    "print(mats)\n",
    "print(names)"
   ]
  },
  {
   "cell_type": "code",
   "execution_count": 27,
   "metadata": {
    "collapsed": false,
    "jupyter": {
     "outputs_hidden": false
    },
    "pycharm": {
     "name": "#%%\n"
    }
   },
   "outputs": [],
   "source": [
    "for mat,fol in zip(mats,names):\n",
    "    os.mkdir(os.path.join(dir,fol))\n",
    "    source = os.path.join(dir,mat)\n",
    "    destination = os.path.join(*[dir,fol,mat])\n",
    "    shutil.copyfile(source, destination)"
   ]
  },
  {
   "cell_type": "code",
   "execution_count": 4,
   "metadata": {
    "collapsed": false,
    "jupyter": {
     "outputs_hidden": false
    },
    "pycharm": {
     "name": "#%%\n"
    }
   },
   "outputs": [],
   "source": [
    "npdir = r'C:\\Users\\kuki\\Desktop\\Skin\\MAT\\bd\\0422_02\\Result based on fibro'\n",
    "npys = [os.path.join(npdir,_) for _ in os.listdir(npdir) if _.endswith('npy')]\n",
    "youngfb = [_ for _ in npys if \"young_fb\" in _ ]\n",
    "oldfb = [_ for _ in npys if \"old_fb\" in _ ]\n",
    "youngim = [_ for _ in npys if \"young_immune\" in _ ]\n",
    "oldim = [_ for _ in npys if \"old_immune\" in _ ]"
   ]
  },
  {
   "cell_type": "code",
   "execution_count": 5,
   "metadata": {
    "collapsed": false,
    "jupyter": {
     "outputs_hidden": false
    },
    "pycharm": {
     "name": "#%%\n"
    }
   },
   "outputs": [],
   "source": [
    "import re\n",
    "\n",
    "def natural_sort(l):\n",
    "    convert = lambda text: int(text) if text.isdigit() else text.lower()\n",
    "    alphanum_key = lambda key: [ convert(c) for c in re.split('([0-9]+)', key) ]\n",
    "    return sorted(l, key = alphanum_key)\n",
    "\n",
    "youngfbsort = natural_sort(youngfb)\n",
    "oldfbsort = natural_sort(oldfb)\n",
    "youngimsort = natural_sort(youngim)\n",
    "oldimsort = natural_sort(oldim)"
   ]
  },
  {
   "cell_type": "code",
   "execution_count": 6,
   "metadata": {
    "collapsed": false,
    "jupyter": {
     "outputs_hidden": false
    },
    "pycharm": {
     "name": "#%%\n"
    }
   },
   "outputs": [
    {
     "name": "stdout",
     "output_type": "stream",
     "text": [
      "C:\\Users\\kuki\\Desktop\\Skin\\MAT\\bd\\0422_02\\Result based on fibro\\height_1_young_fb.npy\n",
      "C:\\Users\\kuki\\Desktop\\Skin\\MAT\\bd\\0422_02\\Result based on fibro\\height_2_young_fb.npy\n",
      "C:\\Users\\kuki\\Desktop\\Skin\\MAT\\bd\\0422_02\\Result based on fibro\\height_3_young_fb.npy\n",
      "C:\\Users\\kuki\\Desktop\\Skin\\MAT\\bd\\0422_02\\Result based on fibro\\height_4_young_fb.npy\n",
      "C:\\Users\\kuki\\Desktop\\Skin\\MAT\\bd\\0422_02\\Result based on fibro\\height_5_young_fb.npy\n",
      "C:\\Users\\kuki\\Desktop\\Skin\\MAT\\bd\\0422_02\\Result based on fibro\\height_6_young_fb.npy\n",
      "C:\\Users\\kuki\\Desktop\\Skin\\MAT\\bd\\0422_02\\Result based on fibro\\height_7_young_fb.npy\n",
      "C:\\Users\\kuki\\Desktop\\Skin\\MAT\\bd\\0422_02\\Result based on fibro\\height_8_young_fb.npy\n",
      "C:\\Users\\kuki\\Desktop\\Skin\\MAT\\bd\\0422_02\\Result based on fibro\\height_9_young_fb.npy\n",
      "C:\\Users\\kuki\\Desktop\\Skin\\MAT\\bd\\0422_02\\Result based on fibro\\height_10_young_fb.npy\n",
      "C:\\Users\\kuki\\Desktop\\Skin\\MAT\\bd\\0422_02\\Result based on fibro\\height_11_young_fb.npy\n",
      "C:\\Users\\kuki\\Desktop\\Skin\\MAT\\bd\\0422_02\\Result based on fibro\\height_12_young_fb.npy\n",
      "C:\\Users\\kuki\\Desktop\\Skin\\MAT\\bd\\0422_02\\Result based on fibro\\height_13_young_fb.npy\n",
      "C:\\Users\\kuki\\Desktop\\Skin\\MAT\\bd\\0422_02\\Result based on fibro\\height_14_young_fb.npy\n",
      "C:\\Users\\kuki\\Desktop\\Skin\\MAT\\bd\\0422_02\\Result based on fibro\\height_15_young_fb.npy\n",
      "C:\\Users\\kuki\\Desktop\\Skin\\MAT\\bd\\0422_02\\Result based on fibro\\height_19_young_fb.npy\n",
      "C:\\Users\\kuki\\Desktop\\Skin\\MAT\\bd\\0422_02\\Result based on fibro\\height_20_young_fb.npy\n",
      "C:\\Users\\kuki\\Desktop\\Skin\\MAT\\bd\\0422_02\\Result based on fibro\\height_21_young_fb.npy\n",
      "C:\\Users\\kuki\\Desktop\\Skin\\MAT\\bd\\0422_02\\Result based on fibro\\height_23_young_fb.npy\n",
      "C:\\Users\\kuki\\Desktop\\Skin\\MAT\\bd\\0422_02\\Result based on fibro\\height_24_young_fb.npy\n",
      "C:\\Users\\kuki\\Desktop\\Skin\\MAT\\bd\\0422_02\\Result based on fibro\\height_25_young_fb.npy\n",
      "C:\\Users\\kuki\\Desktop\\Skin\\MAT\\bd\\0422_02\\Result based on fibro\\height_26_young_fb.npy\n",
      "C:\\Users\\kuki\\Desktop\\Skin\\MAT\\bd\\0422_02\\Result based on fibro\\height_29_young_fb.npy\n",
      "C:\\Users\\kuki\\Desktop\\Skin\\MAT\\bd\\0422_02\\Result based on fibro\\height_30_young_fb.npy\n"
     ]
    }
   ],
   "source": [
    "for i in youngfbsort:\n",
    "    print(i)"
   ]
  },
  {
   "cell_type": "code",
   "execution_count": 9,
   "metadata": {
    "collapsed": false,
    "jupyter": {
     "outputs_hidden": false
    },
    "pycharm": {
     "name": "#%%\n"
    }
   },
   "outputs": [
    {
     "data": {
      "text/plain": "array([[11.83,  6.81,  6.63, 10.75, 11.29,  8.96, 13.08,  9.32,  9.5 ,\n        11.83],\n       [11.26,  9.38,  5.76, 10.59, 10.19, 11.8 ,  9.65,  8.85, 10.05,\n        12.47],\n       [ 8.38,  4.79,  6.91, 14.63, 15.03,  8.38, 14.1 ,  8.38, 10.51,\n         8.91],\n       [11.  ,  5.67,  6.25, 14.  , 17.13,  8.22, 10.76,  9.03,  9.61,\n         8.33],\n       [ 6.57,  3.45,  4.27, 16.26, 18.39,  9.52, 16.42,  9.03,  7.06,\n         9.03],\n       [10.85,  6.46,  7.42, 12.77, 15.25,  9.48, 10.44,  8.93,  9.48,\n         8.93],\n       [11.35,  6.43,  8.42, 10.29, 13.22,  8.19, 12.28,  7.6 ,  9.01,\n        13.22],\n       [12.49,  7.83,  8.38, 12.87, 11.12,  8.43,  9.91,  8.98, 10.3 ,\n         9.69],\n       [13.53,  7.47,  8.39, 11.49, 13.11, 10.29, 10.08,  7.05,  8.81,\n         9.8 ],\n       [ 9.39, 12.44, 11.97,  8.22, 12.21,  8.22, 11.03,  7.98,  9.39,\n         9.15],\n       [10.63,  6.83,  9.21, 11.59, 14.6 ,  7.94, 10.  ,  8.89, 11.43,\n         8.89],\n       [11.47,  9.07,  9.57,  9.27, 12.56,  8.37,  9.97, 10.27, 10.77,\n         8.67],\n       [ 8.14,  9.39, 11.9 , 11.69, 12.11,  9.81,  9.6 ,  9.19,  9.19,\n         8.98],\n       [10.04,  8.45,  7.75, 13.03, 13.38, 11.09, 10.39,  7.39,  8.1 ,\n        10.39],\n       [13.43,  8.48,  9.42, 11.43, 11.78,  7.66, 11.31,  8.72,  8.95,\n         8.83],\n       [11.13,  8.66, 11.34, 10.52, 12.37,  9.48,  8.87, 11.75,  7.63,\n         8.25],\n       [16.  , 16.  , 20.  ,  4.  ,  8.  ,  8.  , 12.  ,  4.  ,  8.  ,\n         4.  ],\n       [ 4.  ,  8.  , 12.  ,  8.  , 20.  , 12.  , 12.  , 16.  ,  0.  ,\n         8.  ],\n       [12.57, 11.17,  7.26,  8.1 , 11.45,  6.98, 10.61,  6.98, 13.69,\n        11.17],\n       [ 8.44, 11.61,  6.33,  7.92,  8.97,  4.49,  8.71, 12.14, 19.  ,\n        12.4 ],\n       [12.01,  6.21, 12.22,  7.45, 12.42,  9.32,  8.49, 14.49, 11.18,\n         6.21],\n       [14.13,  8.7 , 10.51,  6.16, 10.51, 10.14,  7.25, 10.87,  9.42,\n        12.32],\n       [14.66,  7.75,  9.27, 10.36, 10.7 ,  8.17,  9.27,  9.27,  8.42,\n        12.13],\n       [12.85,  8.1 ,  7.94, 10.4 , 11.6 ,  8.57,  9.14,  8.93, 11.13,\n        11.34]])"
     },
     "execution_count": 9,
     "metadata": {},
     "output_type": "execute_result"
    }
   ],
   "source": [
    "def appendnpy(npylist):\n",
    "    npys =[]\n",
    "    for npy in npylist:\n",
    "        npy = np.load(npy)\n",
    "        npys.append(npy)\n",
    "    npys = np.stack(npys, axis=0)\n",
    "    return npys\n",
    "\n",
    "youngfbs = appendnpy(youngfbsort)\n",
    "oldfbs = appendnpy(oldfbsort)"
   ]
  },
  {
   "cell_type": "code",
   "execution_count": 15,
   "outputs": [],
   "source": [
    "youngf = {'young':youngfbs}\n",
    "oldf = {'old':oldfbs}\n",
    "savemat('young.mat',youngf)\n",
    "savemat('old.mat',oldf)"
   ],
   "metadata": {
    "collapsed": false,
    "pycharm": {
     "name": "#%%\n"
    }
   }
  },
  {
   "cell_type": "code",
   "execution_count": 10,
   "outputs": [
    {
     "name": "stdout",
     "output_type": "stream",
     "text": [
      "[11.83  6.81  6.63 10.75 11.29  8.96 13.08  9.32  9.5  11.83]\n",
      "[11.26  9.38  5.76 10.59 10.19 11.8   9.65  8.85 10.05 12.47]\n",
      "[ 8.38  4.79  6.91 14.63 15.03  8.38 14.1   8.38 10.51  8.91]\n",
      "[11.    5.67  6.25 14.   17.13  8.22 10.76  9.03  9.61  8.33]\n",
      "[ 6.57  3.45  4.27 16.26 18.39  9.52 16.42  9.03  7.06  9.03]\n",
      "[10.85  6.46  7.42 12.77 15.25  9.48 10.44  8.93  9.48  8.93]\n",
      "[11.35  6.43  8.42 10.29 13.22  8.19 12.28  7.6   9.01 13.22]\n",
      "[12.49  7.83  8.38 12.87 11.12  8.43  9.91  8.98 10.3   9.69]\n",
      "[13.53  7.47  8.39 11.49 13.11 10.29 10.08  7.05  8.81  9.8 ]\n",
      "[ 9.39 12.44 11.97  8.22 12.21  8.22 11.03  7.98  9.39  9.15]\n",
      "[10.63  6.83  9.21 11.59 14.6   7.94 10.    8.89 11.43  8.89]\n",
      "[11.47  9.07  9.57  9.27 12.56  8.37  9.97 10.27 10.77  8.67]\n",
      "[ 8.14  9.39 11.9  11.69 12.11  9.81  9.6   9.19  9.19  8.98]\n",
      "[10.04  8.45  7.75 13.03 13.38 11.09 10.39  7.39  8.1  10.39]\n",
      "[13.43  8.48  9.42 11.43 11.78  7.66 11.31  8.72  8.95  8.83]\n",
      "[11.13  8.66 11.34 10.52 12.37  9.48  8.87 11.75  7.63  8.25]\n",
      "[16. 16. 20.  4.  8.  8. 12.  4.  8.  4.]\n",
      "[ 4.  8. 12.  8. 20. 12. 12. 16.  0.  8.]\n",
      "[12.57 11.17  7.26  8.1  11.45  6.98 10.61  6.98 13.69 11.17]\n",
      "[ 8.44 11.61  6.33  7.92  8.97  4.49  8.71 12.14 19.   12.4 ]\n",
      "[12.01  6.21 12.22  7.45 12.42  9.32  8.49 14.49 11.18  6.21]\n",
      "[14.13  8.7  10.51  6.16 10.51 10.14  7.25 10.87  9.42 12.32]\n",
      "[14.66  7.75  9.27 10.36 10.7   8.17  9.27  9.27  8.42 12.13]\n",
      "[12.85  8.1   7.94 10.4  11.6   8.57  9.14  8.93 11.13 11.34]\n"
     ]
    }
   ],
   "source": [
    "for i in youngfbs:\n",
    "    print(i)"
   ],
   "metadata": {
    "collapsed": false,
    "pycharm": {
     "name": "#%%\n"
    }
   }
  },
  {
   "cell_type": "code",
   "execution_count": 12,
   "outputs": [
    {
     "data": {
      "text/plain": "[6.63,\n 5.76,\n 6.91,\n 6.25,\n 4.27,\n 7.42,\n 8.42,\n 8.38,\n 8.39,\n 11.97,\n 9.21,\n 9.57,\n 11.9,\n 7.75,\n 9.42,\n 11.34,\n 20.0,\n 12.0,\n 7.26,\n 6.33,\n 12.22,\n 10.51,\n 9.27,\n 7.94]"
     },
     "execution_count": 12,
     "metadata": {},
     "output_type": "execute_result"
    }
   ],
   "source": [
    "youngmode3 = [_[2] for _ in youngfbs]\n",
    "oldmode3 = [_[2] for _ in oldfbs]"
   ],
   "metadata": {
    "collapsed": false,
    "pycharm": {
     "name": "#%%\n"
    }
   }
  },
  {
   "cell_type": "code",
   "execution_count": 42,
   "metadata": {},
   "outputs": [
    {
     "data": {
      "image/png": "[encoded data removed]",
      "text/plain": [
       "<Figure size 1152x576 with 2 Axes>"
      ]
     },
     "metadata": {},
     "output_type": "display_data"
    }
   ],
   "source": [
    "plt.figure(figsize=(16,8))\n",
    "ax = sns.heatmap(youngfbs.astype('int'), annot=True, linewidths=.5,xticklabels=range(1,11), yticklabels=False, fmt='d', square=True,cbar_kws={\"shrink\": 0.5,\"fraction\":0.5})\n",
    "# plt.figure(figsize=(22,10))\n",
    "# ax = sns.heatmap(oldfbs.astype('int'), annot=True, linewidths=.5,xticklabels=range(1,11), yticklabels=False, fmt='d', square=True,cbar_kws={\"shrink\": 0.5,\"fraction\":0.5})\n"
   ]
  },
  {
   "cell_type": "code",
   "execution_count": 8,
   "metadata": {
    "collapsed": false,
    "jupyter": {
     "outputs_hidden": false
    },
    "pycharm": {
     "name": "#%%\n"
    }
   },
   "outputs": [
    {
     "name": "stdout",
     "output_type": "stream",
     "text": [
      "C:\\Users\\kuki\\Desktop\\Skin\\MAT\\bd\\0422_01\\Result based on testrun\\height_1_young_fb.npy\n",
      "C:\\Users\\kuki\\Desktop\\Skin\\MAT\\bd\\0422_01\\Result based on testrun\\height_2_young_fb.npy\n",
      "C:\\Users\\kuki\\Desktop\\Skin\\MAT\\bd\\0422_01\\Result based on testrun\\height_3_young_fb.npy\n",
      "C:\\Users\\kuki\\Desktop\\Skin\\MAT\\bd\\0422_01\\Result based on testrun\\height_4_young_fb.npy\n",
      "C:\\Users\\kuki\\Desktop\\Skin\\MAT\\bd\\0422_01\\Result based on testrun\\height_5_young_fb.npy\n",
      "C:\\Users\\kuki\\Desktop\\Skin\\MAT\\bd\\0422_01\\Result based on testrun\\height_6_young_fb.npy\n",
      "C:\\Users\\kuki\\Desktop\\Skin\\MAT\\bd\\0422_01\\Result based on testrun\\height_7_young_fb.npy\n",
      "C:\\Users\\kuki\\Desktop\\Skin\\MAT\\bd\\0422_01\\Result based on testrun\\height_8_young_fb.npy\n",
      "C:\\Users\\kuki\\Desktop\\Skin\\MAT\\bd\\0422_01\\Result based on testrun\\height_9_young_fb.npy\n",
      "C:\\Users\\kuki\\Desktop\\Skin\\MAT\\bd\\0422_01\\Result based on testrun\\height_10_young_fb.npy\n",
      "C:\\Users\\kuki\\Desktop\\Skin\\MAT\\bd\\0422_01\\Result based on testrun\\height_11_young_fb.npy\n",
      "C:\\Users\\kuki\\Desktop\\Skin\\MAT\\bd\\0422_01\\Result based on testrun\\height_12_young_fb.npy\n",
      "C:\\Users\\kuki\\Desktop\\Skin\\MAT\\bd\\0422_01\\Result based on testrun\\height_13_young_fb.npy\n",
      "C:\\Users\\kuki\\Desktop\\Skin\\MAT\\bd\\0422_01\\Result based on testrun\\height_14_young_fb.npy\n",
      "C:\\Users\\kuki\\Desktop\\Skin\\MAT\\bd\\0422_01\\Result based on testrun\\height_15_young_fb.npy\n",
      "C:\\Users\\kuki\\Desktop\\Skin\\MAT\\bd\\0422_01\\Result based on testrun\\height_19_young_fb.npy\n",
      "C:\\Users\\kuki\\Desktop\\Skin\\MAT\\bd\\0422_01\\Result based on testrun\\height_20_young_fb.npy\n",
      "C:\\Users\\kuki\\Desktop\\Skin\\MAT\\bd\\0422_01\\Result based on testrun\\height_21_young_fb.npy\n",
      "C:\\Users\\kuki\\Desktop\\Skin\\MAT\\bd\\0422_01\\Result based on testrun\\height_23_young_fb.npy\n",
      "C:\\Users\\kuki\\Desktop\\Skin\\MAT\\bd\\0422_01\\Result based on testrun\\height_24_young_fb.npy\n",
      "C:\\Users\\kuki\\Desktop\\Skin\\MAT\\bd\\0422_01\\Result based on testrun\\height_25_young_fb.npy\n",
      "C:\\Users\\kuki\\Desktop\\Skin\\MAT\\bd\\0422_01\\Result based on testrun\\height_26_young_fb.npy\n",
      "C:\\Users\\kuki\\Desktop\\Skin\\MAT\\bd\\0422_01\\Result based on testrun\\height_29_young_fb.npy\n",
      "C:\\Users\\kuki\\Desktop\\Skin\\MAT\\bd\\0422_01\\Result based on testrun\\height_30_young_fb.npy\n"
     ]
    }
   ],
   "source": []
  }
 ],
 "metadata": {
  "kernelspec": {
   "display_name": "Python 3",
   "language": "python",
   "name": "python3"
  },
  "language_info": {
   "codemirror_mode": {
    "name": "ipython",
    "version": 3
   },
   "file_extension": ".py",
   "mimetype": "text/x-python",
   "name": "python",
   "nbconvert_exporter": "python",
   "pygments_lexer": "ipython3",
   "version": "3.7.3"
  }
 },
 "nbformat": 4,
 "nbformat_minor": 4
}